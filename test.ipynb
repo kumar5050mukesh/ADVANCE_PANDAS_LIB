{
 "cells": [
  {
   "cell_type": "code",
   "execution_count": 1,
   "metadata": {},
   "outputs": [],
   "source": [
    "'''---------------------ANSWER TO THE QUESTION 1--------------------------------'''\n",
    "import pandas as pd\n",
    "course_name = [\"Data Science\", \"Machine Learning\", \"Big Data\", \"Data Engineer\"]\n",
    "duration = [2,3,6,4]\n",
    "df = pd.DataFrame(data = {\"course_name\" : course_name, \"duration\" : duration})"
   ]
  },
  {
   "cell_type": "code",
   "execution_count": 8,
   "metadata": {},
   "outputs": [
    {
     "data": {
      "text/plain": [
       "course_name    Machine Learning\n",
       "duration                      3\n",
       "Name: 1, dtype: object"
      ]
     },
     "execution_count": 8,
     "metadata": {},
     "output_type": "execute_result"
    }
   ],
   "source": [
    "df.loc[1]"
   ]
  },
  {
   "cell_type": "code",
   "execution_count": 9,
   "metadata": {},
   "outputs": [],
   "source": [
    "\n",
    "'''----------------------------ANS to the question 2--------------------------------\n",
    " The function loc is used to find the row after matching the index value  \n",
    " if it matches with the index values then it returns the corresponding rows\n",
    "on the other hand the iloc takes the default integer associated with the each row'''"
   ]
  },
  {
   "cell_type": "code",
   "execution_count": 11,
   "metadata": {},
   "outputs": [],
   "source": [
    "\"\"\"-------------------------answer to the question 3---------------------------\"\"\"\n",
    "reindex = [3,0,1,2]\n",
    "new_df=df.reindex(reindex)"
   ]
  },
  {
   "cell_type": "code",
   "execution_count": 12,
   "metadata": {},
   "outputs": [
    {
     "data": {
      "text/html": [
       "<div>\n",
       "<style scoped>\n",
       "    .dataframe tbody tr th:only-of-type {\n",
       "        vertical-align: middle;\n",
       "    }\n",
       "\n",
       "    .dataframe tbody tr th {\n",
       "        vertical-align: top;\n",
       "    }\n",
       "\n",
       "    .dataframe thead th {\n",
       "        text-align: right;\n",
       "    }\n",
       "</style>\n",
       "<table border=\"1\" class=\"dataframe\">\n",
       "  <thead>\n",
       "    <tr style=\"text-align: right;\">\n",
       "      <th></th>\n",
       "      <th>course_name</th>\n",
       "      <th>duration</th>\n",
       "    </tr>\n",
       "  </thead>\n",
       "  <tbody>\n",
       "    <tr>\n",
       "      <th>3</th>\n",
       "      <td>Data Engineer</td>\n",
       "      <td>4</td>\n",
       "    </tr>\n",
       "    <tr>\n",
       "      <th>0</th>\n",
       "      <td>Data Science</td>\n",
       "      <td>2</td>\n",
       "    </tr>\n",
       "    <tr>\n",
       "      <th>1</th>\n",
       "      <td>Machine Learning</td>\n",
       "      <td>3</td>\n",
       "    </tr>\n",
       "    <tr>\n",
       "      <th>2</th>\n",
       "      <td>Big Data</td>\n",
       "      <td>6</td>\n",
       "    </tr>\n",
       "  </tbody>\n",
       "</table>\n",
       "</div>"
      ],
      "text/plain": [
       "        course_name  duration\n",
       "3     Data Engineer         4\n",
       "0      Data Science         2\n",
       "1  Machine Learning         3\n",
       "2          Big Data         6"
      ]
     },
     "execution_count": 12,
     "metadata": {},
     "output_type": "execute_result"
    }
   ],
   "source": [
    "new_df"
   ]
  },
  {
   "cell_type": "code",
   "execution_count": 13,
   "metadata": {},
   "outputs": [
    {
     "data": {
      "text/plain": [
       "course_name    Big Data\n",
       "duration              6\n",
       "Name: 2, dtype: object"
      ]
     },
     "execution_count": 13,
     "metadata": {},
     "output_type": "execute_result"
    }
   ],
   "source": [
    "new_df.loc[2] "
   ]
  },
  {
   "cell_type": "code",
   "execution_count": 14,
   "metadata": {},
   "outputs": [
    {
     "data": {
      "text/plain": [
       "course_name    Machine Learning\n",
       "duration                      3\n",
       "Name: 1, dtype: object"
      ]
     },
     "execution_count": 14,
     "metadata": {},
     "output_type": "execute_result"
    }
   ],
   "source": [
    "new_df.iloc[2]\n",
    "\n",
    "\n",
    "'''THE new_df.loc[2] result matches the index in the dataframe and returns the row 2 on the other hand\n",
    "the new_df.iloc[2] returns the row correspinding to the default index 2'''"
   ]
  },
  {
   "cell_type": "code",
   "execution_count": 72,
   "metadata": {},
   "outputs": [
    {
     "data": {
      "text/html": [
       "<div>\n",
       "<style scoped>\n",
       "    .dataframe tbody tr th:only-of-type {\n",
       "        vertical-align: middle;\n",
       "    }\n",
       "\n",
       "    .dataframe tbody tr th {\n",
       "        vertical-align: top;\n",
       "    }\n",
       "\n",
       "    .dataframe thead th {\n",
       "        text-align: right;\n",
       "    }\n",
       "</style>\n",
       "<table border=\"1\" class=\"dataframe\">\n",
       "  <thead>\n",
       "    <tr style=\"text-align: right;\">\n",
       "      <th></th>\n",
       "      <th>column_1</th>\n",
       "      <th>column_2</th>\n",
       "      <th>column_3</th>\n",
       "      <th>column_4</th>\n",
       "      <th>column_5</th>\n",
       "      <th>column_6</th>\n",
       "    </tr>\n",
       "  </thead>\n",
       "  <tbody>\n",
       "    <tr>\n",
       "      <th>1</th>\n",
       "      <td>0.213911</td>\n",
       "      <td>0.309762</td>\n",
       "      <td>0.702728</td>\n",
       "      <td>0.369783</td>\n",
       "      <td>0.719454</td>\n",
       "      <td>0.148384</td>\n",
       "    </tr>\n",
       "    <tr>\n",
       "      <th>2</th>\n",
       "      <td>0.047606</td>\n",
       "      <td>0.397870</td>\n",
       "      <td>0.145087</td>\n",
       "      <td>0.032240</td>\n",
       "      <td>0.680077</td>\n",
       "      <td>0.475030</td>\n",
       "    </tr>\n",
       "    <tr>\n",
       "      <th>3</th>\n",
       "      <td>0.175663</td>\n",
       "      <td>0.312564</td>\n",
       "      <td>0.639008</td>\n",
       "      <td>0.313618</td>\n",
       "      <td>0.534330</td>\n",
       "      <td>0.481942</td>\n",
       "    </tr>\n",
       "    <tr>\n",
       "      <th>4</th>\n",
       "      <td>0.454679</td>\n",
       "      <td>0.658247</td>\n",
       "      <td>0.680712</td>\n",
       "      <td>0.266377</td>\n",
       "      <td>0.143227</td>\n",
       "      <td>0.172409</td>\n",
       "    </tr>\n",
       "    <tr>\n",
       "      <th>5</th>\n",
       "      <td>0.209313</td>\n",
       "      <td>0.839733</td>\n",
       "      <td>0.848843</td>\n",
       "      <td>0.659610</td>\n",
       "      <td>0.203340</td>\n",
       "      <td>0.456624</td>\n",
       "    </tr>\n",
       "    <tr>\n",
       "      <th>6</th>\n",
       "      <td>0.849458</td>\n",
       "      <td>0.834254</td>\n",
       "      <td>0.720555</td>\n",
       "      <td>0.334652</td>\n",
       "      <td>0.829658</td>\n",
       "      <td>0.511390</td>\n",
       "    </tr>\n",
       "  </tbody>\n",
       "</table>\n",
       "</div>"
      ],
      "text/plain": [
       "   column_1  column_2  column_3  column_4  column_5  column_6\n",
       "1  0.213911  0.309762  0.702728  0.369783  0.719454  0.148384\n",
       "2  0.047606  0.397870  0.145087  0.032240  0.680077  0.475030\n",
       "3  0.175663  0.312564  0.639008  0.313618  0.534330  0.481942\n",
       "4  0.454679  0.658247  0.680712  0.266377  0.143227  0.172409\n",
       "5  0.209313  0.839733  0.848843  0.659610  0.203340  0.456624\n",
       "6  0.849458  0.834254  0.720555  0.334652  0.829658  0.511390"
      ]
     },
     "execution_count": 72,
     "metadata": {},
     "output_type": "execute_result"
    }
   ],
   "source": [
    "\n",
    "\n",
    "import pandas as pd\n",
    "import numpy as np\n",
    "columns = ['column_1', 'column_2', 'column_3', 'column_4', 'column_5', 'column_6']\n",
    "indices = [1,2,3,4,5,6]\n",
    "df1 = pd.DataFrame(np.random.rand(6,6), columns = columns, index = indices)\n",
    "df1"
   ]
  },
  {
   "cell_type": "code",
   "execution_count": 24,
   "metadata": {},
   "outputs": [],
   "source": [
    "\"\"\"------------------------ANSWER 4------------------------\"\"\"\n",
    "df2=df1.columns\n",
    "df3=df1[[i for i in df2 ]].mean()\n",
    "\n"
   ]
  },
  {
   "cell_type": "code",
   "execution_count": 25,
   "metadata": {},
   "outputs": [
    {
     "data": {
      "text/plain": [
       "column_1    0.451100\n",
       "column_2    0.316205\n",
       "column_3    0.606744\n",
       "column_4    0.548885\n",
       "column_5    0.402620\n",
       "column_6    0.471723\n",
       "dtype: float64"
      ]
     },
     "execution_count": 25,
     "metadata": {},
     "output_type": "execute_result"
    }
   ],
   "source": [
    "df3"
   ]
  },
  {
   "cell_type": "code",
   "execution_count": 26,
   "metadata": {},
   "outputs": [],
   "source": [
    "df4=df1[\"column_2\"].std()"
   ]
  },
  {
   "cell_type": "code",
   "execution_count": 27,
   "metadata": {},
   "outputs": [
    {
     "data": {
      "text/plain": [
       "0.18884236364272658"
      ]
     },
     "execution_count": 27,
     "metadata": {},
     "output_type": "execute_result"
    }
   ],
   "source": [
    "df4"
   ]
  },
  {
   "cell_type": "code",
   "execution_count": 49,
   "metadata": {},
   "outputs": [],
   "source": [
    "\"\"\"--------------------answer to the question 5------------------------------\"\"\"\n",
    "\n",
    "df8=df1.loc[2,\"column_2\"]=\"mukesh\""
   ]
  },
  {
   "cell_type": "code",
   "execution_count": 50,
   "metadata": {},
   "outputs": [
    {
     "ename": "TypeError",
     "evalue": "string indices must be integers, not 'str'",
     "output_type": "error",
     "traceback": [
      "\u001b[1;31m---------------------------------------------------------------------------\u001b[0m",
      "\u001b[1;31mTypeError\u001b[0m                                 Traceback (most recent call last)",
      "Cell \u001b[1;32mIn[50], line 1\u001b[0m\n\u001b[1;32m----> 1\u001b[0m df8[\u001b[39m\"\u001b[39;49m\u001b[39mcolumn_2\u001b[39;49m\u001b[39m\"\u001b[39;49m]\u001b[39m.\u001b[39mmean()\n",
      "\u001b[1;31mTypeError\u001b[0m: string indices must be integers, not 'str'"
     ]
    }
   ],
   "source": [
    "df8[\"column_2\"].mean()\n",
    "\"\"\"the value for the data corresponding to  2nd row and 2nd column should be integer to find the mean\"\"\""
   ]
  },
  {
   "cell_type": "code",
   "execution_count": 63,
   "metadata": {},
   "outputs": [
    {
     "name": "stdout",
     "output_type": "stream",
     "text": [
      "2023-02-26 01:55:21.091435\n"
     ]
    }
   ],
   "source": [
    "\"\"\" ---------------------ANSWER TO THE QUESTION 6---------------------------\"\"\"\n",
    "''' the window function allows users to perform calculations on a sliding window of data within a DataFrame or Series.\n",
    " The window can move through the data in different ways, such as expanding, rolling, or centered.\n",
    "  \n",
    "\n",
    "There are three main types of window functions in pandas:\n",
    "\n",
    "Rolling: This type of window moves a fixed-size window through the data, calculating the value of the\n",
    " function for each window. Users can specify the size of the window and the rolling frequency.\n",
    "Expanding: This type of window expands the window to include all data points up to and including\n",
    " the current data point. The function is then calculated for each expanding window.\n",
    "Cumulative: This type of window calculates the function for all data points up to and including the\n",
    " current data point. The calculation is updated for each new data point.\n",
    "\n",
    "\n",
    "\n",
    "\n",
    "\n",
    "\n",
    "'''\n"
   ]
  },
  {
   "cell_type": "code",
   "execution_count": 76,
   "metadata": {},
   "outputs": [
    {
     "name": "stdout",
     "output_type": "stream",
     "text": [
      "the current month is  2\n",
      "the current year is  2023\n"
     ]
    }
   ],
   "source": [
    "\"\"\"---------------ANSWER TO THE QUESTION 7------------------------------------\"\"\"\n",
    "# Q7. Write a code to print only the current month and year at the time of answering this question.\n",
    "# [Hint: Use pandas.datetime function]\n",
    "from datetime import date\n",
    "x=date.today()\n",
    "print(\"the current month is \",x.month) \n",
    "print(\"the current year is \",x.year)"
   ]
  },
  {
   "cell_type": "code",
   "execution_count": 83,
   "metadata": {},
   "outputs": [
    {
     "name": "stdout",
     "output_type": "stream",
     "text": [
      "The time difference   is 761 days or 18264 hours or  1095840 minutes.\n"
     ]
    }
   ],
   "source": [
    "\"\"\"------------------------------ANSWER TO THE QUESTION 8-----------------------------------\"\"\"\n",
    "import pandas as pd\n",
    "\n",
    "\n",
    "date1 = input(\"Enter the first date (YYYY-MM-DD): \")\n",
    "date2 = input(\"Enter the second date (YYYY-MM-DD): \")\n",
    "\n",
    "\n",
    "date1 = pd.to_datetime(date1)\n",
    "date2 = pd.to_datetime(date2)\n",
    "\n",
    "\n",
    "time_diff = date2 - date1\n",
    "\n",
    "\n",
    "days = time_diff.days\n",
    "hours = days *24\n",
    "minutes = hours*60\n",
    "\n",
    "print(f\"The time difference   is {days} days or {hours} hours or  {minutes} minutes.\")"
   ]
  },
  {
   "cell_type": "code",
   "execution_count": 81,
   "metadata": {},
   "outputs": [
    {
     "name": "stdout",
     "output_type": "stream",
     "text": [
      "The time difference   is 151 days or 3624 hours or  217440 minutes.\n"
     ]
    }
   ],
   "source": [
    "import pandas as pd\n",
    "\n",
    "\n",
    "date1 = input(\"Enter the first date (YYYY-MM-DD): \")\n",
    "date2 = input(\"Enter the second date (YYYY-MM-DD): \")\n",
    "\n",
    "\n",
    "date1 = pd.to_datetime(date1)\n",
    "date2 = pd.to_datetime(date2)\n",
    "\n",
    "\n",
    "time_diff = date2 - date1\n",
    "\n",
    "\n",
    "days = time_diff.days\n",
    "hours = days *24\n",
    "minutes = hours*60\n",
    "\n",
    "print(f\"The time difference   is {days} days or {hours} hours or  {minutes} minutes.\")\n"
   ]
  },
  {
   "cell_type": "code",
   "execution_count": 9,
   "metadata": {},
   "outputs": [
    {
     "name": "stdout",
     "output_type": "stream",
     "text": [
      "      Name  Age  Gender\n",
      "1      Bob   30    Male\n",
      "2  Charlie   40    Male\n",
      "3     Dave   20    Male\n",
      "0    Alice   25  Female\n",
      "4      Eve   35  Female\n"
     ]
    }
   ],
   "source": [
    "\"\"\"-----------ANSWER TO THE QUESTION 9 --------------------------------------\"\"\"\n",
    "import pandas as pd\n",
    "file_path = input(\"Enter file path: \")\n",
    "df = pd.read_csv(file_path)\n",
    "col_name = input(\"Enter column name: \")\n",
    "cat_order = input(\"Enter category order (comma-separated): \").split(\",\")\n",
    "df[col_name] = pd.Categorical(df[col_name], categories=cat_order, ordered=True)\n",
    "print(df.sort_values(col_name))\n"
   ]
  },
  {
   "cell_type": "code",
   "execution_count": 3,
   "metadata": {},
   "outputs": [
    {
     "data": {
      "image/png": "[encoded data removed]",
      "text/plain": [
       "<Figure size 640x480 with 1 Axes>"
      ]
     },
     "metadata": {},
     "output_type": "display_data"
    }
   ],
   "source": [
    "\"\"\"-------------------ANSWER TO QUESTION 10----------------------------------------------\"\"\"\n",
    "\"\"\" Write a Python program that reads a CSV file containing sales data for different products and\n",
    "visualizes the data using a stacked bar chart to show the sales of each product category over time. The\n",
    "program should prompt the user to enter the file path and display the chart.\"\"\"\n",
    "\n",
    "\n",
    "\n"
   ]
  },
  {
   "cell_type": "code",
   "execution_count": 5,
   "metadata": {},
   "outputs": [
    {
     "data": {
      "image/png": "[encoded data removed]",
      "text/plain": [
       "<Figure size 640x480 with 1 Axes>"
      ]
     },
     "metadata": {},
     "output_type": "display_data"
    }
   ],
   "source": [
    "\n",
    "import pandas as  pd\n",
    "file_path= input(\"file_path\")\n",
    "file=pd.read_csv(file_path)\n",
    "df=pd.DataFrame(file)\n",
    "print( df)\n",
    "\n",
    "import matplotlib.pyplot as plt\n",
    "\n",
    "\n",
    "labels = df[\"month\"]\n",
    "fridge = df[\"fridge\"]\n",
    "tv = df[\"tv\"]\n",
    "washmac = df[\"washing\"]\n",
    "\n",
    "\n",
    "fig, ax = plt.subplots()\n",
    "\n",
    "\n",
    "ax.bar(labels, fridge, label='FRIDGE')\n",
    "ax.bar(labels, tv, bottom=fridge, label='TV')\n",
    "ax.bar(labels, washmac, bottom=[i+j for i,j in zip(fridge,tv)], label='WASHING MACHINE')\n",
    "\n",
    "ax.set_xlabel('month')\n",
    "ax.set_ylabel('sales')\n",
    "ax.set_title('Stacked sales bar')\n",
    "ax.legend()\n",
    "\n",
    "\n",
    "plt.show()"
   ]
  },
  {
   "attachments": {},
   "cell_type": "markdown",
   "metadata": {},
   "source": [
    "![](Figure_1.png)"
   ]
  },
  {
   "cell_type": "code",
   "execution_count": 24,
   "metadata": {},
   "outputs": [
    {
     "name": "stdout",
     "output_type": "stream",
     "text": [
      "+-----------+-------+\n",
      "| Statistic | Value |\n",
      "+-----------+-------+\n",
      "|    Mean   |  83.5 |\n",
      "|   Median  |  85.0 |\n",
      "|    Mode   |  [85] |\n",
      "+-----------+-------+\n"
     ]
    }
   ],
   "source": [
    "\"\"\"-----------------ANSWER QUES 11------------------------------------------------------\"\"\"\n",
    "import pandas as pd\n",
    "from prettytable import PrettyTable\n",
    "\n",
    "file_path = input(\"Enter file path or 'test5.csv' to check: \")\n",
    "file = pd.read_csv(file_path)\n",
    "df = pd.DataFrame(file)\n",
    "x = df[\"TestScore\"].mean()\n",
    "y = df[\"TestScore\"].median()\n",
    "z = df[\"TestScore\"].mode()\n",
    "table = PrettyTable()\n",
    "table.field_names = ['Statistic', 'Value']\n",
    "table.add_row(['Mean', x])\n",
    "table.add_row(['Median', y])\n",
    "table.add_row(['Mode', z[:].values])\n",
    "\n",
    "\n",
    "print(table)\n",
    "\n"
   ]
  },
  {
   "cell_type": "code",
   "execution_count": null,
   "metadata": {},
   "outputs": [],
   "source": []
  }
 ],
 "metadata": {
  "kernelspec": {
   "display_name": "Python 3",
   "language": "python",
   "name": "python3"
  },
  "language_info": {
   "codemirror_mode": {
    "name": "ipython",
    "version": 3
   },
   "file_extension": ".py",
   "mimetype": "text/x-python",
   "name": "python",
   "nbconvert_exporter": "python",
   "pygments_lexer": "ipython3",
   "version": "3.11.2"
  },
  "orig_nbformat": 4,
  "vscode": {
   "interpreter": {
    "hash": "d0cc77b1db46382cbe4cbef11dbee9aa2bb2a28cd88680fe59f588f9c8f15129"
   }
  }
 },
 "nbformat": 4,
 "nbformat_minor": 2
}
